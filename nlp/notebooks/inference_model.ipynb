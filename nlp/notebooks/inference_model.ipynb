{
 "cells": [
  {
   "cell_type": "code",
   "execution_count": 3,
   "metadata": {},
   "outputs": [
    {
     "name": "stderr",
     "output_type": "stream",
     "text": [
      "/Users/jnk789/miniconda3/lib/python3.12/site-packages/tqdm/auto.py:21: TqdmWarning: IProgress not found. Please update jupyter and ipywidgets. See https://ipywidgets.readthedocs.io/en/stable/user_install.html\n",
      "  from .autonotebook import tqdm as notebook_tqdm\n"
     ]
    }
   ],
   "source": [
    "import json, yaml\n",
    "from transformers import AutoModelForCausalLM, AutoTokenizer\n",
    "import torch"
   ]
  },
  {
   "cell_type": "code",
   "execution_count": 4,
   "metadata": {},
   "outputs": [
    {
     "name": "stdout",
     "output_type": "stream",
     "text": [
      "True\n"
     ]
    }
   ],
   "source": [
    "print(torch.backends.mps.is_available())"
   ]
  },
  {
   "cell_type": "markdown",
   "metadata": {},
   "source": [
    "## Load Models"
   ]
  },
  {
   "cell_type": "code",
   "execution_count": 5,
   "metadata": {},
   "outputs": [],
   "source": [
    "device = torch.device(\"mps\" if torch.backends.mps.is_available() else \"cpu\")"
   ]
  },
  {
   "cell_type": "code",
   "execution_count": 6,
   "metadata": {},
   "outputs": [
    {
     "name": "stderr",
     "output_type": "stream",
     "text": [
      "Sliding Window Attention is enabled but not implemented for `sdpa`; unexpected results may be encountered.\n",
      "Loading checkpoint shards: 100%|██████████| 4/4 [00:57<00:00, 14.44s/it]\n"
     ]
    },
    {
     "ename": "RuntimeError",
     "evalue": "MPS backend out of memory (MPS allocated: 20.34 GB, other allocations: 464.00 KB, max allowed: 20.40 GB). Tried to allocate 259.00 MB on private pool. Use PYTORCH_MPS_HIGH_WATERMARK_RATIO=0.0 to disable upper limit for memory allocations (may cause system failure).",
     "output_type": "error",
     "traceback": [
      "\u001b[31m---------------------------------------------------------------------------\u001b[39m",
      "\u001b[31mRuntimeError\u001b[39m                              Traceback (most recent call last)",
      "\u001b[36mCell\u001b[39m\u001b[36m \u001b[39m\u001b[32mIn[6]\u001b[39m\u001b[32m, line 8\u001b[39m\n\u001b[32m      4\u001b[39m tokenizer = AutoTokenizer.from_pretrained(model_name)\n\u001b[32m      5\u001b[39m model = AutoModelForCausalLM.from_pretrained(\n\u001b[32m      6\u001b[39m     model_name)\n\u001b[32m----> \u001b[39m\u001b[32m8\u001b[39m \u001b[43mmodel\u001b[49m\u001b[43m.\u001b[49m\u001b[43mto\u001b[49m\u001b[43m(\u001b[49m\u001b[43mdevice\u001b[49m\u001b[43m)\u001b[49m\n",
      "\u001b[36mFile \u001b[39m\u001b[32m~/miniconda3/lib/python3.12/site-packages/transformers/modeling_utils.py:3162\u001b[39m, in \u001b[36mPreTrainedModel.to\u001b[39m\u001b[34m(self, *args, **kwargs)\u001b[39m\n\u001b[32m   3157\u001b[39m     \u001b[38;5;28;01mif\u001b[39;00m dtype_present_in_args:\n\u001b[32m   3158\u001b[39m         \u001b[38;5;28;01mraise\u001b[39;00m \u001b[38;5;167;01mValueError\u001b[39;00m(\n\u001b[32m   3159\u001b[39m             \u001b[33m\"\u001b[39m\u001b[33mYou cannot cast a GPTQ model in a new `dtype`. Make sure to load the model using `from_pretrained` using the desired\u001b[39m\u001b[33m\"\u001b[39m\n\u001b[32m   3160\u001b[39m             \u001b[33m\"\u001b[39m\u001b[33m `dtype` by passing the correct `torch_dtype` argument.\u001b[39m\u001b[33m\"\u001b[39m\n\u001b[32m   3161\u001b[39m         )\n\u001b[32m-> \u001b[39m\u001b[32m3162\u001b[39m \u001b[38;5;28;01mreturn\u001b[39;00m \u001b[38;5;28;43msuper\u001b[39;49m\u001b[43m(\u001b[49m\u001b[43m)\u001b[49m\u001b[43m.\u001b[49m\u001b[43mto\u001b[49m\u001b[43m(\u001b[49m\u001b[43m*\u001b[49m\u001b[43margs\u001b[49m\u001b[43m,\u001b[49m\u001b[43m \u001b[49m\u001b[43m*\u001b[49m\u001b[43m*\u001b[49m\u001b[43mkwargs\u001b[49m\u001b[43m)\u001b[49m\n",
      "\u001b[36mFile \u001b[39m\u001b[32m~/miniconda3/lib/python3.12/site-packages/torch/nn/modules/module.py:1343\u001b[39m, in \u001b[36mModule.to\u001b[39m\u001b[34m(self, *args, **kwargs)\u001b[39m\n\u001b[32m   1340\u001b[39m         \u001b[38;5;28;01melse\u001b[39;00m:\n\u001b[32m   1341\u001b[39m             \u001b[38;5;28;01mraise\u001b[39;00m\n\u001b[32m-> \u001b[39m\u001b[32m1343\u001b[39m \u001b[38;5;28;01mreturn\u001b[39;00m \u001b[38;5;28;43mself\u001b[39;49m\u001b[43m.\u001b[49m\u001b[43m_apply\u001b[49m\u001b[43m(\u001b[49m\u001b[43mconvert\u001b[49m\u001b[43m)\u001b[49m\n",
      "\u001b[36mFile \u001b[39m\u001b[32m~/miniconda3/lib/python3.12/site-packages/torch/nn/modules/module.py:903\u001b[39m, in \u001b[36mModule._apply\u001b[39m\u001b[34m(self, fn, recurse)\u001b[39m\n\u001b[32m    901\u001b[39m \u001b[38;5;28;01mif\u001b[39;00m recurse:\n\u001b[32m    902\u001b[39m     \u001b[38;5;28;01mfor\u001b[39;00m module \u001b[38;5;129;01min\u001b[39;00m \u001b[38;5;28mself\u001b[39m.children():\n\u001b[32m--> \u001b[39m\u001b[32m903\u001b[39m         \u001b[43mmodule\u001b[49m\u001b[43m.\u001b[49m\u001b[43m_apply\u001b[49m\u001b[43m(\u001b[49m\u001b[43mfn\u001b[49m\u001b[43m)\u001b[49m\n\u001b[32m    905\u001b[39m \u001b[38;5;28;01mdef\u001b[39;00m\u001b[38;5;250m \u001b[39m\u001b[34mcompute_should_use_set_data\u001b[39m(tensor, tensor_applied):\n\u001b[32m    906\u001b[39m     \u001b[38;5;28;01mif\u001b[39;00m torch._has_compatible_shallow_copy_type(tensor, tensor_applied):\n\u001b[32m    907\u001b[39m         \u001b[38;5;66;03m# If the new tensor has compatible tensor type as the existing tensor,\u001b[39;00m\n\u001b[32m    908\u001b[39m         \u001b[38;5;66;03m# the current behavior is to change the tensor in-place using `.data =`,\u001b[39;00m\n\u001b[32m   (...)\u001b[39m\u001b[32m    913\u001b[39m         \u001b[38;5;66;03m# global flag to let the user control whether they want the future\u001b[39;00m\n\u001b[32m    914\u001b[39m         \u001b[38;5;66;03m# behavior of overwriting the existing tensor or not.\u001b[39;00m\n",
      "\u001b[36mFile \u001b[39m\u001b[32m~/miniconda3/lib/python3.12/site-packages/torch/nn/modules/module.py:903\u001b[39m, in \u001b[36mModule._apply\u001b[39m\u001b[34m(self, fn, recurse)\u001b[39m\n\u001b[32m    901\u001b[39m \u001b[38;5;28;01mif\u001b[39;00m recurse:\n\u001b[32m    902\u001b[39m     \u001b[38;5;28;01mfor\u001b[39;00m module \u001b[38;5;129;01min\u001b[39;00m \u001b[38;5;28mself\u001b[39m.children():\n\u001b[32m--> \u001b[39m\u001b[32m903\u001b[39m         \u001b[43mmodule\u001b[49m\u001b[43m.\u001b[49m\u001b[43m_apply\u001b[49m\u001b[43m(\u001b[49m\u001b[43mfn\u001b[49m\u001b[43m)\u001b[49m\n\u001b[32m    905\u001b[39m \u001b[38;5;28;01mdef\u001b[39;00m\u001b[38;5;250m \u001b[39m\u001b[34mcompute_should_use_set_data\u001b[39m(tensor, tensor_applied):\n\u001b[32m    906\u001b[39m     \u001b[38;5;28;01mif\u001b[39;00m torch._has_compatible_shallow_copy_type(tensor, tensor_applied):\n\u001b[32m    907\u001b[39m         \u001b[38;5;66;03m# If the new tensor has compatible tensor type as the existing tensor,\u001b[39;00m\n\u001b[32m    908\u001b[39m         \u001b[38;5;66;03m# the current behavior is to change the tensor in-place using `.data =`,\u001b[39;00m\n\u001b[32m   (...)\u001b[39m\u001b[32m    913\u001b[39m         \u001b[38;5;66;03m# global flag to let the user control whether they want the future\u001b[39;00m\n\u001b[32m    914\u001b[39m         \u001b[38;5;66;03m# behavior of overwriting the existing tensor or not.\u001b[39;00m\n",
      "    \u001b[31m[... skipping similar frames: Module._apply at line 903 (2 times)]\u001b[39m\n",
      "\u001b[36mFile \u001b[39m\u001b[32m~/miniconda3/lib/python3.12/site-packages/torch/nn/modules/module.py:903\u001b[39m, in \u001b[36mModule._apply\u001b[39m\u001b[34m(self, fn, recurse)\u001b[39m\n\u001b[32m    901\u001b[39m \u001b[38;5;28;01mif\u001b[39;00m recurse:\n\u001b[32m    902\u001b[39m     \u001b[38;5;28;01mfor\u001b[39;00m module \u001b[38;5;129;01min\u001b[39;00m \u001b[38;5;28mself\u001b[39m.children():\n\u001b[32m--> \u001b[39m\u001b[32m903\u001b[39m         \u001b[43mmodule\u001b[49m\u001b[43m.\u001b[49m\u001b[43m_apply\u001b[49m\u001b[43m(\u001b[49m\u001b[43mfn\u001b[49m\u001b[43m)\u001b[49m\n\u001b[32m    905\u001b[39m \u001b[38;5;28;01mdef\u001b[39;00m\u001b[38;5;250m \u001b[39m\u001b[34mcompute_should_use_set_data\u001b[39m(tensor, tensor_applied):\n\u001b[32m    906\u001b[39m     \u001b[38;5;28;01mif\u001b[39;00m torch._has_compatible_shallow_copy_type(tensor, tensor_applied):\n\u001b[32m    907\u001b[39m         \u001b[38;5;66;03m# If the new tensor has compatible tensor type as the existing tensor,\u001b[39;00m\n\u001b[32m    908\u001b[39m         \u001b[38;5;66;03m# the current behavior is to change the tensor in-place using `.data =`,\u001b[39;00m\n\u001b[32m   (...)\u001b[39m\u001b[32m    913\u001b[39m         \u001b[38;5;66;03m# global flag to let the user control whether they want the future\u001b[39;00m\n\u001b[32m    914\u001b[39m         \u001b[38;5;66;03m# behavior of overwriting the existing tensor or not.\u001b[39;00m\n",
      "\u001b[36mFile \u001b[39m\u001b[32m~/miniconda3/lib/python3.12/site-packages/torch/nn/modules/module.py:930\u001b[39m, in \u001b[36mModule._apply\u001b[39m\u001b[34m(self, fn, recurse)\u001b[39m\n\u001b[32m    926\u001b[39m \u001b[38;5;66;03m# Tensors stored in modules are graph leaves, and we don't want to\u001b[39;00m\n\u001b[32m    927\u001b[39m \u001b[38;5;66;03m# track autograd history of `param_applied`, so we have to use\u001b[39;00m\n\u001b[32m    928\u001b[39m \u001b[38;5;66;03m# `with torch.no_grad():`\u001b[39;00m\n\u001b[32m    929\u001b[39m \u001b[38;5;28;01mwith\u001b[39;00m torch.no_grad():\n\u001b[32m--> \u001b[39m\u001b[32m930\u001b[39m     param_applied = \u001b[43mfn\u001b[49m\u001b[43m(\u001b[49m\u001b[43mparam\u001b[49m\u001b[43m)\u001b[49m\n\u001b[32m    931\u001b[39m p_should_use_set_data = compute_should_use_set_data(param, param_applied)\n\u001b[32m    933\u001b[39m \u001b[38;5;66;03m# subclasses may have multiple child tensors so we need to use swap_tensors\u001b[39;00m\n",
      "\u001b[36mFile \u001b[39m\u001b[32m~/miniconda3/lib/python3.12/site-packages/torch/nn/modules/module.py:1329\u001b[39m, in \u001b[36mModule.to.<locals>.convert\u001b[39m\u001b[34m(t)\u001b[39m\n\u001b[32m   1322\u001b[39m     \u001b[38;5;28;01mif\u001b[39;00m convert_to_format \u001b[38;5;129;01mis\u001b[39;00m \u001b[38;5;129;01mnot\u001b[39;00m \u001b[38;5;28;01mNone\u001b[39;00m \u001b[38;5;129;01mand\u001b[39;00m t.dim() \u001b[38;5;129;01min\u001b[39;00m (\u001b[32m4\u001b[39m, \u001b[32m5\u001b[39m):\n\u001b[32m   1323\u001b[39m         \u001b[38;5;28;01mreturn\u001b[39;00m t.to(\n\u001b[32m   1324\u001b[39m             device,\n\u001b[32m   1325\u001b[39m             dtype \u001b[38;5;28;01mif\u001b[39;00m t.is_floating_point() \u001b[38;5;129;01mor\u001b[39;00m t.is_complex() \u001b[38;5;28;01melse\u001b[39;00m \u001b[38;5;28;01mNone\u001b[39;00m,\n\u001b[32m   1326\u001b[39m             non_blocking,\n\u001b[32m   1327\u001b[39m             memory_format=convert_to_format,\n\u001b[32m   1328\u001b[39m         )\n\u001b[32m-> \u001b[39m\u001b[32m1329\u001b[39m     \u001b[38;5;28;01mreturn\u001b[39;00m \u001b[43mt\u001b[49m\u001b[43m.\u001b[49m\u001b[43mto\u001b[49m\u001b[43m(\u001b[49m\n\u001b[32m   1330\u001b[39m \u001b[43m        \u001b[49m\u001b[43mdevice\u001b[49m\u001b[43m,\u001b[49m\n\u001b[32m   1331\u001b[39m \u001b[43m        \u001b[49m\u001b[43mdtype\u001b[49m\u001b[43m \u001b[49m\u001b[38;5;28;43;01mif\u001b[39;49;00m\u001b[43m \u001b[49m\u001b[43mt\u001b[49m\u001b[43m.\u001b[49m\u001b[43mis_floating_point\u001b[49m\u001b[43m(\u001b[49m\u001b[43m)\u001b[49m\u001b[43m \u001b[49m\u001b[38;5;129;43;01mor\u001b[39;49;00m\u001b[43m \u001b[49m\u001b[43mt\u001b[49m\u001b[43m.\u001b[49m\u001b[43mis_complex\u001b[49m\u001b[43m(\u001b[49m\u001b[43m)\u001b[49m\u001b[43m \u001b[49m\u001b[38;5;28;43;01melse\u001b[39;49;00m\u001b[43m \u001b[49m\u001b[38;5;28;43;01mNone\u001b[39;49;00m\u001b[43m,\u001b[49m\n\u001b[32m   1332\u001b[39m \u001b[43m        \u001b[49m\u001b[43mnon_blocking\u001b[49m\u001b[43m,\u001b[49m\n\u001b[32m   1333\u001b[39m \u001b[43m    \u001b[49m\u001b[43m)\u001b[49m\n\u001b[32m   1334\u001b[39m \u001b[38;5;28;01mexcept\u001b[39;00m \u001b[38;5;167;01mNotImplementedError\u001b[39;00m \u001b[38;5;28;01mas\u001b[39;00m e:\n\u001b[32m   1335\u001b[39m     \u001b[38;5;28;01mif\u001b[39;00m \u001b[38;5;28mstr\u001b[39m(e) == \u001b[33m\"\u001b[39m\u001b[33mCannot copy out of meta tensor; no data!\u001b[39m\u001b[33m\"\u001b[39m:\n",
      "\u001b[31mRuntimeError\u001b[39m: MPS backend out of memory (MPS allocated: 20.34 GB, other allocations: 464.00 KB, max allowed: 20.40 GB). Tried to allocate 259.00 MB on private pool. Use PYTORCH_MPS_HIGH_WATERMARK_RATIO=0.0 to disable upper limit for memory allocations (may cause system failure)."
     ]
    }
   ],
   "source": [
    "model_name = \"Qwen/Qwen2-7B-Instruct\"\n",
    "\n",
    "# load the tokenizer and the model\n",
    "tokenizer = AutoTokenizer.from_pretrained(model_name)\n",
    "model = AutoModelForCausalLM.from_pretrained(model_name)\n",
    "\n",
    "model.to(device)"
   ]
  },
  {
   "cell_type": "markdown",
   "metadata": {},
   "source": [
    "## Load Data"
   ]
  },
  {
   "cell_type": "code",
   "execution_count": 10,
   "metadata": {},
   "outputs": [],
   "source": [
    "with open('../data/process_data.json', 'r') as f:\n",
    "    data = json.load(f)"
   ]
  },
  {
   "cell_type": "code",
   "execution_count": 21,
   "metadata": {},
   "outputs": [
    {
     "name": "stdout",
     "output_type": "stream",
     "text": [
      "Number of data points: 625\n",
      "Keys: dict_keys(['1000', '1010', '1019', '1020', '1026', '1039', '1040', '1045', '1070', '1072', '1074', '1075', '1078', '1093', '1097', '1104', '1113', '1114', '1118', '1120', '1135', '1138', '1150', '1153', '1156', '1159', '1177', '1178', '1180', '1181', '1194', '1196', '1213', '1215', '1218', '1219', '1220', '1221', '1223', '1230', '1232', '1234', '1235', '1236', '1252', '1253', '1254', '1274', '1277', '1278', '1279', '1281', '1283', '1284', '1290', '1291', '1297', '1300', '1304', '1305', '1306', '1308', '1318', '1320', '1322', '1325', '1341', '1349', '1356', '1362', '1365', '1366', '1379', '1380', '1391', '1392', '1394', '1397', '1402', '1408', '1409', '1411', '1414', '1420', '1425', '1427', '1430', '1434', '1440', '1447', '1456', '1457', '1458', '1465', '1478', '1481', '1487', '1489', '1496', '1498', '1501', '1506', '1510', '1512', '1526', '1528', '1534', '1537', '1542', '1544', '1547', '1552', '1555', '1556', '1567', '1571', '1573', '1581', '1587', '1595', '1596', '1598', '1599', '1608', '1609', '1613', '1619', '1625', '1626', '1628', '1638', '1640', '1650', '1663', '1666', '1671', '1677', '1678', '1683', '1699', '1712', '1730', '1732', '1741', '1742', '1743', '1746', '1753', '1755', '1762', '1773', '1774', '1781', '1782', '1784', '1785', '1786', '1787', '1789', '1801', '1806', '1813', '1825', '1833', '1842', '1843', '1848', '1850', '1865', '1871', '1883', '1884', '1893', '1894', '1897', '1900', '1917', '1920', '1922', '1923', '1927', '1933', '1943', '1957', '1965', '1966', '1968', '1971', '1974', '1975', '1981', '1982', '1986', '1988', '1990', '1992', '1995', '1996', '1998', '1999', '2002', '2003', '2005', '2008', '2011', '2014', '2016', '2017', '2019', '2022', '2024', '2029', '2031', '2032', '2034', '2037', '2040', '2044', '2049', '2051', '2058', '2061', '2062', '2063', '2067', '2075', '2078', '2085', '2086', '2088', '2089', '2090', '2095', '2107', '2110', '2122', '2123', '2125', '2129', '2130', '2131', '2135', '2154', '2159', '2171', '2173', '2176', '2181', '2182', '2188', '2189', '2190', '2193', '2197', '2198', '2203', '2207', '2208', '2216', '2220', '2239', '2252', '2263', '2274', '2279', '2285', '2290', '2293', '2300', '2311', '2312', '2316', '2322', '2328', '2333', '2350', '2361', '2367', '2370', '2372', '2374', '2375', '2385', '2399', '2400', '2401', '2403', '2418', '2428', '2433', '2438', '2444', '2448', '2451', '2452', '2455', '2473', '2490', '2491', '2496', '2504', '2507', '2509', '2514', '2517', '2518', '2521', '2524', '2527', '2529', '2530', '2547', '2549', '2550', '2553', '2558', '2559', '2562', '2564', '2574', '2577', '2579', '2583', '2600', '2610', '2624', '2630', '2636', '2664', '2718', '2729', '2736', '2741', '2745', '2771', '2775', '2779', '2781', '2783', '2803', '2804', '2811', '2812', '2814', '2815', '2817', '2824', '2827', '2828', '2830', '2836', '2839', '2844', '2847', '2848', '2856', '2857', '2858', '2859', '2860', '2870', '2871', '2877', '2884', '2892', '2893', '2899', '2904', '2917', '2919', '2920', '2921', '2939', '2941', '2943', '2948', '2952', '2954', '2960', '2964', '2967', '2968', '2982', '2986', '2987', '2989', '2991', '2994', '2998', '2999', '3017', '3022', '3024', '3026', '3030', '3033', '3036', '3039', '3041', '3044', '3046', '3060', '3066', '3067', '3070', '3078', '3081', '3091', '3094', '3096', '3098', '3107', '3108', '3110', '3120', '3123', '3125', '3126', '3130', '3135', '3139', '3140', '3141', '3142', '3144', '3156', '3158', '3167', '3170', '3184', '3185', '3186', '3188', '3190', '3199', '3200', '3204', '3206', '3210', '3211', '3219', '3224', '3226', '3231', '3238', '3239', '3241', '3249', '3255', '3257', '3262', '3263', '3265', '3271', '3273', '3283', '3296', '3300', '3307', '3314', '3333', '3352', '3360', '3374', '3386', '3391', '3393', '3396', '3398', '3401', '3413', '3416', '3419', '3422', '3427', '3429', '3439', '3445', '3452', '3455', '3457', '3459', '3460', '3463', '3465', '3470', '3473', '3480', '3489', '3495', '3498', '3502', '3505', '3511', '3512', '3517', '3521', '3522', '3525', '3526', '3527', '3532', '3542', '3544', '3551', '3562', '3564', '3566', '3567', '3568', '3580', '3581', '3586', '3589', '3593', '3595', '3602', '3605', '3607', '3609', '3612', '3613', '3614', '3618', '3619', '3627', '3631', '3632', '3637', '3639', '3642', '3643', '3650', '3659', '3662', '3669', '3670', '3675', '3676', '3680', '3688', '3689', '3696', '3724', '3732', '3733', '3735', '3746', '3748', '3764', '3798', '3808', '3814', '3818', '3819', '3821', '3825', '3840', '3846', '3847', '3848', '3852', '3861', '3863', '3864', '3868', '3874', '3878', '3888', '3893', '3895', '3897', '3898', '3901', '3911', '3914', '3919', '3926', '3928', '3929', '3930', '3939', '3945', '3946', '3965', '3978', '3990', '3992', '3998', '4004', '4011', '4013', '4016', '4025', '4029', '4037', '4040', '4042', '4043', '4046', '4047', '4048', '4049', '4054', '4055', '4058', '4060', '4062', '4063', '4066', '4069', '4079', '4083', '4087', '4091', '4093', '4094', '4097', '4103', '4108', '4110', '4114', '4119', '4126', '4128'])\n",
      "Type of Data in the first key: <class 'dict'>\n",
      "Keys in the first data point: dict_keys(['std_dev_sales', '1973.0', '1974.0', '1975.0', '1976.0', '1977.0'])\n",
      "\n",
      "Below is the Balance Sheet:\n",
      "------------------------------------------------------------------------------------------\n",
      "| Account Items                                                  | 1971 | 1972 |\n",
      "------------------------------------------------------------------------------------------\n",
      "| Total Asset                                                  | 29.330 | 19.907 |\n",
      "| Current Assets                                               | 19.688 | 11.326 |\n",
      "| Current Liabilities                                          | 8.507 | 3.990 |\n",
      "| Cash and Short-Term Investments                              | 2.557 | 2.027 |\n",
      "| Receivables                                                  | 8.398 | 4.186 |\n",
      "| Inventories                                                  | 8.187 | 4.743 |\n",
      "| Other Current Assets                                         | 0.546 | 0.370 |\n",
      "| Property, Plant, and Equipment (Net)                         | 7.639 | 7.013 |\n",
      "| Investment and Advances (equity)                             | 1.275 | 1.147 |\n",
      "| Investment Total (short-term)(Other Investments)             | 0.000 | 1.225 |\n",
      "| Intangible Assets                                            | 0.198 | 0.170 |\n",
      "| Other Assets                                                 | 0.530 | 0.251 |\n",
      "| Total Liabilities                                            | 20.948 | 12.886 |\n",
      "| Debt in Current Liabilities                                  | 2.857 | 0.000 |\n",
      "| Account Payable                                              | 4.326 | 2.768 |\n",
      "| Income Taxes Payable                                         | 0.129 | 0.050 |\n",
      "| Other Current Liabilities                                    | 1.195 | 1.172 |\n",
      "| Long-term Debt                                               | 10.318 | 7.000 |\n",
      "| Deferred Taxes and Investment Tax Credit                     | 0.000 | 0.288 |\n",
      "| Other Liabilities                                            | 2.123 | 1.608 |\n",
      "| Preferred Stock                                              | 0.000 | 0.000 |\n",
      "| Common Stock                                                 | 2.995 | 2.902 |\n",
      "| Shareholders' Equity                                         | 8.382 | 7.021 |\n",
      "| Stockholders' Equity Total                                   | 0.000 | 0.000 |\n",
      "| Noncontrolling Interest                                      | 0.000 | 0.000 |\n",
      "| Total Liabilities and Shareholders' Equity                   | 29.330 | 19.907 |\n",
      "------------------------------------------------------------------------------------------\n",
      "\n",
      "\n",
      "\n",
      "Below is the Income Statement:\n",
      "------------------------------------------------------------------------------------------\n",
      "| Account Items                                                  | 1970 | 1971 | 1972 |\n",
      "------------------------------------------------------------------------------------------\n",
      "| Sales (net)                                                  | 45.335 | 47.033 | 34.362 |\n",
      "| Cost of Goods Sold                                           | 30.529 | 33.973 | 22.702 |\n",
      "| Gross Profit                                                 | 14.806 | 13.060 | 11.660 |\n",
      "| Selling, General and Administrative Expenses                 | 9.420 | 10.548 | 7.551 |\n",
      "| Operating Income Before Depreciation                         | 5.386 | 2.512 | 4.109 |\n",
      "| Depreciation and Amortization                                | 1.352 | 1.399 | 1.200 |\n",
      "| Operating Income After Depreciation                          | 4.034 | 1.113 | 2.909 |\n",
      "| Interest and Related Expense                                 | 0.850 | 1.117 | 0.784 |\n",
      "| Nonoperating Income (excluding interest income)              | 0.436 | 0.142 | 0.577 |\n",
      "| Total Interest Income                                        | 0.000 | 0.000 | 0.000 |\n",
      "| Special Items                                                | 0.000 | 0.000 | 0.000 |\n",
      "| Pretax Income                                                | 3.620 | 0.138 | 2.702 |\n",
      "| Income Taxes (current)                                       | 0.000 | 0.000 | 0.000 |\n",
      "| Income Taxes (deferred)                                      | 0.331 | 0.000 | 0.288 |\n",
      "| Income Taxes (other)                                         | 0.000 | 0.000 | 0.000 |\n",
      "| Income Before Extraordinary Items and Noncontrolling Interest | 0.000 | 0.000 | 0.000 |\n",
      "| Noncontrolling Interest                                      | 0.000 | 0.000 | 0.000 |\n",
      "| Income Before Extraordinary Items                            | 1.878 | 0.138 | 1.554 |\n",
      "| Dividends - Total                                            | 0.000 | 0.000 | 0.000 |\n",
      "| Income Before Extraordinary Items - Availiabe Common Stock   | 1.878 | 0.138 | 1.554 |\n",
      "| Common Stock Equivalents - Dollar Savings                    | 0.000 | 0.000 | 0.000 |\n",
      "| Income Before Extraordinary Items - Adjusted for Common Stock E | 1.878 | 0.138 | 1.554 |\n",
      "| Extraordinary Items and Discontinued Operations              | -1.320 | -2.456 | 0.671 |\n",
      "| Net Income (Loss)                                            | 0.558 | -2.318 | 2.225 |\n",
      "| Earnings per Share - Basic Excluding Extraordinary Items     | 0.560 | 0.040 | 0.500 |\n",
      "| Earnings per Share - Diluted Excluding Extraordinary Items   | 0.560 | 0.040 | 0.500 |\n",
      "------------------------------------------------------------------------------------------\n",
      "\n",
      "increase\n"
     ]
    }
   ],
   "source": [
    "print(f\"Number of data points: {len(data)}\")\n",
    "print(f\"Keys: {data.keys()}\")\n",
    "\n",
    "print(f\"Type of Data in the first key: {type(data['1000'])}\")\n",
    "print(f\"Keys in the first data point: {data['1000'].keys()}\")\n",
    "\n",
    "print(data['1000']['1973.0']['description'])\n",
    "print(data['1000']['1973.0']['label'])"
   ]
  },
  {
   "cell_type": "code",
   "execution_count": 27,
   "metadata": {},
   "outputs": [
    {
     "name": "stdout",
     "output_type": "stream",
     "text": [
      "Based on the following financial statements, assess whether EPS will increase or decrease in the next year:\n",
      "\n",
      "Below is the Balance Sheet:\n",
      "------------------------------------------------------------------------------------------\n",
      "| Account Items                                                  | 1971 | 1972 |\n",
      "------------------------------------------------------------------------------------------\n",
      "| Total Asset                                                  | 29.330 | 19.907 |\n",
      "| Current Assets                                               | 19.688 | 11.326 |\n",
      "| Current Liabilities                                          | 8.507 | 3.990 |\n",
      "| Cash and Short-Term Investments                              | 2.557 | 2.027 |\n",
      "| Receivables                                                  | 8.398 | 4.186 |\n",
      "| Inventories                                                  | 8.187 | 4.743 |\n",
      "| Other Current Assets                                         | 0.546 | 0.370 |\n",
      "| Property, Plant, and Equipment (Net)                         | 7.639 | 7.013 |\n",
      "| Investment and Advances (equity)                             | 1.275 | 1.147 |\n",
      "| Investment Total (short-term)(Other Investments)             | 0.000 | 1.225 |\n",
      "| Intangible Assets                                            | 0.198 | 0.170 |\n",
      "| Other Assets                                                 | 0.530 | 0.251 |\n",
      "| Total Liabilities                                            | 20.948 | 12.886 |\n",
      "| Debt in Current Liabilities                                  | 2.857 | 0.000 |\n",
      "| Account Payable                                              | 4.326 | 2.768 |\n",
      "| Income Taxes Payable                                         | 0.129 | 0.050 |\n",
      "| Other Current Liabilities                                    | 1.195 | 1.172 |\n",
      "| Long-term Debt                                               | 10.318 | 7.000 |\n",
      "| Deferred Taxes and Investment Tax Credit                     | 0.000 | 0.288 |\n",
      "| Other Liabilities                                            | 2.123 | 1.608 |\n",
      "| Preferred Stock                                              | 0.000 | 0.000 |\n",
      "| Common Stock                                                 | 2.995 | 2.902 |\n",
      "| Shareholders' Equity                                         | 8.382 | 7.021 |\n",
      "| Stockholders' Equity Total                                   | 0.000 | 0.000 |\n",
      "| Noncontrolling Interest                                      | 0.000 | 0.000 |\n",
      "| Total Liabilities and Shareholders' Equity                   | 29.330 | 19.907 |\n",
      "------------------------------------------------------------------------------------------\n",
      "\n",
      "\n",
      "\n",
      "Below is the Income Statement:\n",
      "------------------------------------------------------------------------------------------\n",
      "| Account Items                                                  | 1970 | 1971 | 1972 |\n",
      "------------------------------------------------------------------------------------------\n",
      "| Sales (net)                                                  | 45.335 | 47.033 | 34.362 |\n",
      "| Cost of Goods Sold                                           | 30.529 | 33.973 | 22.702 |\n",
      "| Gross Profit                                                 | 14.806 | 13.060 | 11.660 |\n",
      "| Selling, General and Administrative Expenses                 | 9.420 | 10.548 | 7.551 |\n",
      "| Operating Income Before Depreciation                         | 5.386 | 2.512 | 4.109 |\n",
      "| Depreciation and Amortization                                | 1.352 | 1.399 | 1.200 |\n",
      "| Operating Income After Depreciation                          | 4.034 | 1.113 | 2.909 |\n",
      "| Interest and Related Expense                                 | 0.850 | 1.117 | 0.784 |\n",
      "| Nonoperating Income (excluding interest income)              | 0.436 | 0.142 | 0.577 |\n",
      "| Total Interest Income                                        | 0.000 | 0.000 | 0.000 |\n",
      "| Special Items                                                | 0.000 | 0.000 | 0.000 |\n",
      "| Pretax Income                                                | 3.620 | 0.138 | 2.702 |\n",
      "| Income Taxes (current)                                       | 0.000 | 0.000 | 0.000 |\n",
      "| Income Taxes (deferred)                                      | 0.331 | 0.000 | 0.288 |\n",
      "| Income Taxes (other)                                         | 0.000 | 0.000 | 0.000 |\n",
      "| Income Before Extraordinary Items and Noncontrolling Interest | 0.000 | 0.000 | 0.000 |\n",
      "| Noncontrolling Interest                                      | 0.000 | 0.000 | 0.000 |\n",
      "| Income Before Extraordinary Items                            | 1.878 | 0.138 | 1.554 |\n",
      "| Dividends - Total                                            | 0.000 | 0.000 | 0.000 |\n",
      "| Income Before Extraordinary Items - Availiabe Common Stock   | 1.878 | 0.138 | 1.554 |\n",
      "| Common Stock Equivalents - Dollar Savings                    | 0.000 | 0.000 | 0.000 |\n",
      "| Income Before Extraordinary Items - Adjusted for Common Stock E | 1.878 | 0.138 | 1.554 |\n",
      "| Extraordinary Items and Discontinued Operations              | -1.320 | -2.456 | 0.671 |\n",
      "| Net Income (Loss)                                            | 0.558 | -2.318 | 2.225 |\n",
      "| Earnings per Share - Basic Excluding Extraordinary Items     | 0.560 | 0.040 | 0.500 |\n",
      "| Earnings per Share - Diluted Excluding Extraordinary Items   | 0.560 | 0.040 | 0.500 |\n",
      "------------------------------------------------------------------------------------------\n",
      "\n",
      "Solve this problem step by step:\n",
      "1. Analyze the Balance Sheet: 1A. Extract balance sheet data including Year-over-Year percentage changes for each item. 1B. Analyze the balance sheet data for key insights and trends.\n",
      "2. Perform a Cash Flow Analysis: 2A. Analyze liquidity and cash movement based on the balance sheet and income statement trends.\n",
      "3. Analyze the Income Statement: 3A. Extract income statement data including Year-over-Year percentage changes for each item. 3B. Analyze the income statement data for key insights and trends.\n",
      "4. Financial Ratio Analysis: 4A. Using the balance sheet and income statement data, calculate key financial ratios for the two most recent periods. 4B. Analyze the calculated financial ratios for key insights and trends.\n",
      "5. Final Summary and Future Outlook: 5A. Based on the balance sheet, income statement, and financial ratio analysis, produce a comprehensive assessment of the company's financial health and future profitability.\n",
      "6. EPS Prediction for Next Year: 6A. Assess whether EPS is likely to increase or decrease based on findings. 6B. Return the results: - Direction of EPS Change: Must be a one-word response of Increase or Decrease - Magnitude of Change - Certainty of Assessment - Reason\n"
     ]
    }
   ],
   "source": [
    "# Construct the prompt\n",
    "with open(\"../config/prompts.yaml\", \"r\") as f:\n",
    "    prompts = yaml.safe_load(f)\n",
    "    \n",
    "print(prompts['prompt_1'][0].format(balance_income_sheet=data['1000']['1973.0']['description']))"
   ]
  },
  {
   "cell_type": "code",
   "execution_count": 28,
   "metadata": {},
   "outputs": [],
   "source": [
    "prompt_input = prompts['prompt_1'][0].format(balance_income_sheet=data['1000']['1973.0']['description'])"
   ]
  },
  {
   "cell_type": "markdown",
   "metadata": {},
   "source": [
    "## Inference"
   ]
  },
  {
   "cell_type": "code",
   "execution_count": 29,
   "metadata": {},
   "outputs": [
    {
     "data": {
      "text/plain": [
       "\"<|im_start|>system\\nYou are a helpful assistant.<|im_end|>\\n<|im_start|>user\\nBased on the following financial statements, assess whether EPS will increase or decrease in the next year:\\n\\nBelow is the Balance Sheet:\\n------------------------------------------------------------------------------------------\\n| Account Items                                                  | 1971 | 1972 |\\n------------------------------------------------------------------------------------------\\n| Total Asset                                                  | 29.330 | 19.907 |\\n| Current Assets                                               | 19.688 | 11.326 |\\n| Current Liabilities                                          | 8.507 | 3.990 |\\n| Cash and Short-Term Investments                              | 2.557 | 2.027 |\\n| Receivables                                                  | 8.398 | 4.186 |\\n| Inventories                                                  | 8.187 | 4.743 |\\n| Other Current Assets                                         | 0.546 | 0.370 |\\n| Property, Plant, and Equipment (Net)                         | 7.639 | 7.013 |\\n| Investment and Advances (equity)                             | 1.275 | 1.147 |\\n| Investment Total (short-term)(Other Investments)             | 0.000 | 1.225 |\\n| Intangible Assets                                            | 0.198 | 0.170 |\\n| Other Assets                                                 | 0.530 | 0.251 |\\n| Total Liabilities                                            | 20.948 | 12.886 |\\n| Debt in Current Liabilities                                  | 2.857 | 0.000 |\\n| Account Payable                                              | 4.326 | 2.768 |\\n| Income Taxes Payable                                         | 0.129 | 0.050 |\\n| Other Current Liabilities                                    | 1.195 | 1.172 |\\n| Long-term Debt                                               | 10.318 | 7.000 |\\n| Deferred Taxes and Investment Tax Credit                     | 0.000 | 0.288 |\\n| Other Liabilities                                            | 2.123 | 1.608 |\\n| Preferred Stock                                              | 0.000 | 0.000 |\\n| Common Stock                                                 | 2.995 | 2.902 |\\n| Shareholders' Equity                                         | 8.382 | 7.021 |\\n| Stockholders' Equity Total                                   | 0.000 | 0.000 |\\n| Noncontrolling Interest                                      | 0.000 | 0.000 |\\n| Total Liabilities and Shareholders' Equity                   | 29.330 | 19.907 |\\n------------------------------------------------------------------------------------------\\n\\n\\n\\nBelow is the Income Statement:\\n------------------------------------------------------------------------------------------\\n| Account Items                                                  | 1970 | 1971 | 1972 |\\n------------------------------------------------------------------------------------------\\n| Sales (net)                                                  | 45.335 | 47.033 | 34.362 |\\n| Cost of Goods Sold                                           | 30.529 | 33.973 | 22.702 |\\n| Gross Profit                                                 | 14.806 | 13.060 | 11.660 |\\n| Selling, General and Administrative Expenses                 | 9.420 | 10.548 | 7.551 |\\n| Operating Income Before Depreciation                         | 5.386 | 2.512 | 4.109 |\\n| Depreciation and Amortization                                | 1.352 | 1.399 | 1.200 |\\n| Operating Income After Depreciation                          | 4.034 | 1.113 | 2.909 |\\n| Interest and Related Expense                                 | 0.850 | 1.117 | 0.784 |\\n| Nonoperating Income (excluding interest income)              | 0.436 | 0.142 | 0.577 |\\n| Total Interest Income                                        | 0.000 | 0.000 | 0.000 |\\n| Special Items                                                | 0.000 | 0.000 | 0.000 |\\n| Pretax Income                                                | 3.620 | 0.138 | 2.702 |\\n| Income Taxes (current)                                       | 0.000 | 0.000 | 0.000 |\\n| Income Taxes (deferred)                                      | 0.331 | 0.000 | 0.288 |\\n| Income Taxes (other)                                         | 0.000 | 0.000 | 0.000 |\\n| Income Before Extraordinary Items and Noncontrolling Interest | 0.000 | 0.000 | 0.000 |\\n| Noncontrolling Interest                                      | 0.000 | 0.000 | 0.000 |\\n| Income Before Extraordinary Items                            | 1.878 | 0.138 | 1.554 |\\n| Dividends - Total                                            | 0.000 | 0.000 | 0.000 |\\n| Income Before Extraordinary Items - Availiabe Common Stock   | 1.878 | 0.138 | 1.554 |\\n| Common Stock Equivalents - Dollar Savings                    | 0.000 | 0.000 | 0.000 |\\n| Income Before Extraordinary Items - Adjusted for Common Stock E | 1.878 | 0.138 | 1.554 |\\n| Extraordinary Items and Discontinued Operations              | -1.320 | -2.456 | 0.671 |\\n| Net Income (Loss)                                            | 0.558 | -2.318 | 2.225 |\\n| Earnings per Share - Basic Excluding Extraordinary Items     | 0.560 | 0.040 | 0.500 |\\n| Earnings per Share - Diluted Excluding Extraordinary Items   | 0.560 | 0.040 | 0.500 |\\n------------------------------------------------------------------------------------------\\n\\nSolve this problem step by step:\\n1. Analyze the Balance Sheet: 1A. Extract balance sheet data including Year-over-Year percentage changes for each item. 1B. Analyze the balance sheet data for key insights and trends.\\n2. Perform a Cash Flow Analysis: 2A. Analyze liquidity and cash movement based on the balance sheet and income statement trends.\\n3. Analyze the Income Statement: 3A. Extract income statement data including Year-over-Year percentage changes for each item. 3B. Analyze the income statement data for key insights and trends.\\n4. Financial Ratio Analysis: 4A. Using the balance sheet and income statement data, calculate key financial ratios for the two most recent periods. 4B. Analyze the calculated financial ratios for key insights and trends.\\n5. Final Summary and Future Outlook: 5A. Based on the balance sheet, income statement, and financial ratio analysis, produce a comprehensive assessment of the company's financial health and future profitability.\\n6. EPS Prediction for Next Year: 6A. Assess whether EPS is likely to increase or decrease based on findings. 6B. Return the results: - Direction of EPS Change: Must be a one-word response of Increase or Decrease - Magnitude of Change - Certainty of Assessment - Reason<|im_end|>\\n<|im_start|>assistant\\n\""
      ]
     },
     "execution_count": 29,
     "metadata": {},
     "output_type": "execute_result"
    }
   ],
   "source": [
    "# prepare the model input\n",
    "# prompt = \"Give me a short introduction to large language model.\"\n",
    "messages = [\n",
    "    {\"role\": \"user\", \"content\": prompt_input}\n",
    "]\n",
    "\n",
    "# Format prompt using chat template\n",
    "text = tokenizer.apply_chat_template(\n",
    "    messages,\n",
    "    tokenize=False,\n",
    "    add_generation_prompt=True\n",
    ")"
   ]
  },
  {
   "cell_type": "code",
   "execution_count": 32,
   "metadata": {},
   "outputs": [
    {
     "data": {
      "text/plain": [
       "{'input_ids': tensor([[151644,   8948,    198,  ..., 151644,  77091,    198]],\n",
       "       device='mps:0'), 'attention_mask': tensor([[1, 1, 1,  ..., 1, 1, 1]], device='mps:0')}"
      ]
     },
     "execution_count": 32,
     "metadata": {},
     "output_type": "execute_result"
    }
   ],
   "source": [
    "# Generate response\n",
    "model_inputs = tokenizer([text], return_tensors=\"pt\").to(model.device)\n",
    "model_inputs"
   ]
  },
  {
   "cell_type": "code",
   "execution_count": null,
   "metadata": {},
   "outputs": [],
   "source": [
    "generated_ids = model.generate(\n",
    "    model_inputs.input_ids,\n",
    "    max_new_tokens=512\n",
    ")"
   ]
  },
  {
   "cell_type": "code",
   "execution_count": null,
   "metadata": {},
   "outputs": [],
   "source": [
    "# Decode and print output\n",
    "response = tokenizer.batch_decode(\n",
    "    generated_ids[:, model_inputs.input_ids.shape[1]:], \n",
    "    skip_special_tokens=True\n",
    ")[0]\n",
    "\n",
    "\n",
    "print(response)"
   ]
  }
 ],
 "metadata": {
  "kernelspec": {
   "display_name": "base",
   "language": "python",
   "name": "python3"
  },
  "language_info": {
   "codemirror_mode": {
    "name": "ipython",
    "version": 3
   },
   "file_extension": ".py",
   "mimetype": "text/x-python",
   "name": "python",
   "nbconvert_exporter": "python",
   "pygments_lexer": "ipython3",
   "version": "3.12.2"
  }
 },
 "nbformat": 4,
 "nbformat_minor": 2
}
