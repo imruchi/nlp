{
 "cells": [
  {
   "cell_type": "code",
   "execution_count": 1,
   "id": "14286aaf",
   "metadata": {},
   "outputs": [],
   "source": [
    "import pandas as pd"
   ]
  },
  {
   "cell_type": "code",
   "execution_count": 2,
   "id": "17134959",
   "metadata": {},
   "outputs": [],
   "source": [
    "eval_df = pd.read_json(\"../outputs/predictions_checkpoint_1800.json\")"
   ]
  },
  {
   "cell_type": "code",
   "execution_count": 3,
   "id": "fd986d97",
   "metadata": {},
   "outputs": [
    {
     "data": {
      "text/html": [
       "<div>\n",
       "<style scoped>\n",
       "    .dataframe tbody tr th:only-of-type {\n",
       "        vertical-align: middle;\n",
       "    }\n",
       "\n",
       "    .dataframe tbody tr th {\n",
       "        vertical-align: top;\n",
       "    }\n",
       "\n",
       "    .dataframe thead th {\n",
       "        text-align: right;\n",
       "    }\n",
       "</style>\n",
       "<table border=\"1\" class=\"dataframe\">\n",
       "  <thead>\n",
       "    <tr style=\"text-align: right;\">\n",
       "      <th></th>\n",
       "      <th>company_id</th>\n",
       "      <th>year</th>\n",
       "      <th>actual_label</th>\n",
       "      <th>predicted_direction</th>\n",
       "      <th>magnitude</th>\n",
       "      <th>certainty</th>\n",
       "      <th>reason</th>\n",
       "      <th>is_match</th>\n",
       "      <th>full_model_response</th>\n",
       "    </tr>\n",
       "  </thead>\n",
       "  <tbody>\n",
       "    <tr>\n",
       "      <th>0</th>\n",
       "      <td>1000</td>\n",
       "      <td>1973</td>\n",
       "      <td>increase</td>\n",
       "      <td>decrease</td>\n",
       "      <td>Significant</td>\n",
       "      <td>Medium</td>\n",
       "      <td>\\eSince\\e\\ sales\\ehave\\edeclined\\esharply\\ewit...</td>\n",
       "      <td>False</td>\n",
       "      <td>system\\nYou are a helpful assistant.\\nuser\\nBa...</td>\n",
       "    </tr>\n",
       "    <tr>\n",
       "      <th>1</th>\n",
       "      <td>1000</td>\n",
       "      <td>1974</td>\n",
       "      <td>decrease</td>\n",
       "      <td>decrease</td>\n",
       "      <td>Moderate</td>\n",
       "      <td>Medium</td>\n",
       "      <td>Despite some growth signals via asset buildup,...</td>\n",
       "      <td>True</td>\n",
       "      <td>system\\nYou are a helpful assistant.\\nuser\\nBa...</td>\n",
       "    </tr>\n",
       "    <tr>\n",
       "      <th>2</th>\n",
       "      <td>1000</td>\n",
       "      <td>1975</td>\n",
       "      <td>increase</td>\n",
       "      <td>increase</td>\n",
       "      <td>Moderate</td>\n",
       "      <td>High</td>\n",
       "      <td>Rapidly increasing sales coupled with margin e...</td>\n",
       "      <td>True</td>\n",
       "      <td>system\\nYou are a helpful assistant.\\nuser\\nBa...</td>\n",
       "    </tr>\n",
       "    <tr>\n",
       "      <th>3</th>\n",
       "      <td>1000</td>\n",
       "      <td>1976</td>\n",
       "      <td>increase</td>\n",
       "      <td>decrease</td>\n",
       "      <td>Moderate</td>\n",
       "      <td>Medium</td>\n",
       "      <td>\\nThe projected decrease in EPS stems from ant...</td>\n",
       "      <td>False</td>\n",
       "      <td>system\\nYou are a helpful assistant.\\nuser\\nBa...</td>\n",
       "    </tr>\n",
       "    <tr>\n",
       "      <th>4</th>\n",
       "      <td>1000</td>\n",
       "      <td>1977</td>\n",
       "      <td>decrease</td>\n",
       "      <td>error</td>\n",
       "      <td>Error</td>\n",
       "      <td>Error</td>\n",
       "      <td>Error in parsing JSON: Expecting ',' delimiter...</td>\n",
       "      <td>False</td>\n",
       "      <td>system\\nYou are a helpful assistant.\\nuser\\nBa...</td>\n",
       "    </tr>\n",
       "  </tbody>\n",
       "</table>\n",
       "</div>"
      ],
      "text/plain": [
       "   company_id  year actual_label predicted_direction    magnitude certainty  \\\n",
       "0        1000  1973     increase            decrease  Significant    Medium   \n",
       "1        1000  1974     decrease            decrease     Moderate    Medium   \n",
       "2        1000  1975     increase            increase     Moderate      High   \n",
       "3        1000  1976     increase            decrease     Moderate    Medium   \n",
       "4        1000  1977     decrease               error        Error     Error   \n",
       "\n",
       "                                              reason  is_match  \\\n",
       "0  \\eSince\\e\\ sales\\ehave\\edeclined\\esharply\\ewit...     False   \n",
       "1  Despite some growth signals via asset buildup,...      True   \n",
       "2  Rapidly increasing sales coupled with margin e...      True   \n",
       "3  \\nThe projected decrease in EPS stems from ant...     False   \n",
       "4  Error in parsing JSON: Expecting ',' delimiter...     False   \n",
       "\n",
       "                                 full_model_response  \n",
       "0  system\\nYou are a helpful assistant.\\nuser\\nBa...  \n",
       "1  system\\nYou are a helpful assistant.\\nuser\\nBa...  \n",
       "2  system\\nYou are a helpful assistant.\\nuser\\nBa...  \n",
       "3  system\\nYou are a helpful assistant.\\nuser\\nBa...  \n",
       "4  system\\nYou are a helpful assistant.\\nuser\\nBa...  "
      ]
     },
     "execution_count": 3,
     "metadata": {},
     "output_type": "execute_result"
    }
   ],
   "source": [
    "eval_df.head()"
   ]
  },
  {
   "cell_type": "code",
   "execution_count": 4,
   "id": "f047fb47",
   "metadata": {},
   "outputs": [
    {
     "data": {
      "text/plain": [
       "'system\\nYou are a helpful assistant.\\nuser\\nBased on the following financial statements, assess whether EPS will increase or decrease in the next year:\\n\\nBelow is the Balance Sheet:\\n------------------------------------------------------------------------------------------\\n| Account Items                                                  | 1971 | 1972 |\\n------------------------------------------------------------------------------------------\\n| Total Asset                                                  | 29.330 | 19.907 |\\n| Current Assets                                               | 19.688 | 11.326 |\\n| Current Liabilities                                          | 8.507 | 3.990 |\\n| Cash and Short-Term Investments                              | 2.557 | 2.027 |\\n| Receivables                                                  | 8.398 | 4.186 |\\n| Inventories                                                  | 8.187 | 4.743 |\\n| Other Current Assets                                         | 0.546 | 0.370 |\\n| Property, Plant, and Equipment (Net)                         | 7.639 | 7.013 |\\n| Investment and Advances (equity)                             | 1.275 | 1.147 |\\n| Investment Total (short-term)(Other Investments)             | 0.000 | 1.225 |\\n| Intangible Assets                                            | 0.198 | 0.170 |\\n| Other Assets                                                 | 0.530 | 0.251 |\\n| Total Liabilities                                            | 20.948 | 12.886 |\\n| Debt in Current Liabilities                                  | 2.857 | 0.000 |\\n| Account Payable                                              | 4.326 | 2.768 |\\n| Income Taxes Payable                                         | 0.129 | 0.050 |\\n| Other Current Liabilities                                    | 1.195 | 1.172 |\\n| Long-term Debt                                               | 10.318 | 7.000 |\\n| Deferred Taxes and Investment Tax Credit                     | 0.000 | 0.288 |\\n| Other Liabilities                                            | 2.123 | 1.608 |\\n| Preferred Stock                                              | 0.000 | 0.000 |\\n| Common Stock                                                 | 2.995 | 2.902 |\\n| Shareholders\\' Equity                                         | 8.382 | 7.021 |\\n| Stockholders\\' Equity Total                                   | 0.000 | 0.000 |\\n| Noncontrolling Interest                                      | 0.000 | 0.000 |\\n| Total Liabilities and Shareholders\\' Equity                   | 29.330 | 19.907 |\\n------------------------------------------------------------------------------------------\\n\\n\\n\\nBelow is the Income Statement:\\n------------------------------------------------------------------------------------------\\n| Account Items                                                  | 1970 | 1971 | 1972 |\\n------------------------------------------------------------------------------------------\\n| Sales (net)                                                  | 45.335 | 47.033 | 34.362 |\\n| Cost of Goods Sold                                           | 30.529 | 33.973 | 22.702 |\\n| Gross Profit                                                 | 14.806 | 13.060 | 11.660 |\\n| Selling, General and Administrative Expenses                 | 9.420 | 10.548 | 7.551 |\\n| Operating Income Before Depreciation                         | 5.386 | 2.512 | 4.109 |\\n| Depreciation and Amortization                                | 1.352 | 1.399 | 1.200 |\\n| Operating Income After Depreciation                          | 4.034 | 1.113 | 2.909 |\\n| Interest and Related Expense                                 | 0.850 | 1.117 | 0.784 |\\n| Nonoperating Income (excluding interest income)              | 0.436 | 0.142 | 0.577 |\\n| Total Interest Income                                        | 0.000 | 0.000 | 0.000 |\\n| Special Items                                                | 0.000 | 0.000 | 0.000 |\\n| Pretax Income                                                | 3.620 | 0.138 | 2.702 |\\n| Income Taxes (current)                                       | 0.000 | 0.000 | 0.000 |\\n| Income Taxes (deferred)                                      | 0.331 | 0.000 | 0.288 |\\n| Income Taxes (other)                                         | 0.000 | 0.000 | 0.000 |\\n| Income Before Extraordinary Items and Noncontrolling Interest | 0.000 | 0.000 | 0.000 |\\n| Noncontrolling Interest                                      | 0.000 | 0.000 | 0.000 |\\n| Income Before Extraordinary Items                            | 1.878 | 0.138 | 1.554 |\\n| Dividends - Total                                            | 0.000 | 0.000 | 0.000 |\\n| Income Before Extraordinary Items - Availiabe Common Stock   | 1.878 | 0.138 | 1.554 |\\n| Common Stock Equivalents - Dollar Savings                    | 0.000 | 0.000 | 0.000 |\\n| Income Before Extraordinary Items - Adjusted for Common Stock E | 1.878 | 0.138 | 1.554 |\\n| Extraordinary Items and Discontinued Operations              | -1.320 | -2.456 | 0.671 |\\n| Net Income (Loss)                                            | 0.558 | -2.318 | 2.225 |\\n| Earnings per Share - Basic Excluding Extraordinary Items     | 0.560 | 0.040 | 0.500 |\\n| Earnings per Share - Diluted Excluding Extraordinary Items   | 0.560 | 0.040 | 0.500 |\\n------------------------------------------------------------------------------------------\\n\\n\\nSolve this problem step by step:\\n1. Analyze the Balance Sheet:\\n   1A. Extract balance sheet data including Year-over-Year percentage changes for each item.\\n   1B. Analyze the balance sheet data for key insights and trends.\\n\\n2. Perform a Cash Flow Analysis:\\n   2A. Analyze liquidity and cash movement based on the balance sheet and income statement trends.\\n\\n3. Analyze the Income Statement:\\n   3A. Extract income statement data including Year-over-Year percentage changes for each item.\\n   3B. Analyze the income statement data for key insights and trends.\\n\\n4. Financial Ratio Analysis:\\n   4A. Using the balance sheet and income statement data, calculate key financial ratios for the two most recent periods.\\n   4B. Analyze the calculated financial ratios for key insights and trends.\\n\\n5. Final Summary and Future Outlook:\\n   5A. Based on the balance sheet, income statement, and financial ratio analysis, produce a comprehensive assessment of the company\\'s financial health and future profitability.\\n\\n6. EPS Prediction for Next Year:\\n   6A. Assess whether EPS is likely to increase or decrease based on findings.\\n   6B. First provide the step-wise reasoning. After your reasoning, return the results in the EXACT JSON format specified below. The JSON block, enclosed in ```json and ```, must be the VERY LAST part of your response. Do NOT include any text, comments, or explanations after the closing ``` of the JSON block.\\n   ```json\\n {\\n     \"direction_of_eps_change\": \"<Increase/Decrease>\",\\n     \"magnitude_of_change\": \"<Brief description of magnitude, e.g., Slight, Moderate, Significant>\",\\n     \"certainty_of_assessment\": \"<High/Medium/Low>\",\\n     \"reason\": \"<Concise explanation for the prediction. Ensure any newlines within this string are properly escaped as \\\\\\\\n.>\"\\n   }\\n ```\\n\\nassistant\\n### Step-by-Step Reasoning\\n\\n#### 1. Analyzing the Balance Sheet\\n\\n**Year-over-year percentage changes:**\\n\\n* **Total Assets**: Decreased from $29.330M to $19.907M (-31%)\\n    * *Current Assets*: Shrank significantly, especially in receivables (\\\\(41\\\\%\\\\)) and inventories (\\\\(44\\\\%\\\\)).\\n    * *Non-current Assets*: Decreases were observed across property plant equipment net (-\\\\(8.317\\\\)M), investments & advances equities (-\\\\(0.145\\\\)M), intangibles assets (-\\\\$0.028M).\\n  \\n**Key Insights/Trends:** \\nThe total asset base notably shrunk due mainly to reductions in current assets, with significant declines noted in receivables and inventories. This suggests potential lower sales activity or tightened inventory management.\\n\\n#### 2. Performing a Cash Flow Analysis\\n\\n**Liquidity and Cash Movement:**\\nFrom the decrease in total assets and particularly current assets alongside an overall decline in sales, it can be inferred that operating activities may have led to reduced inflows compared to outflows potentially impacting working capital negatively. However, without specific cash flow details, one cannot conclusively determine liquidity position.\\n\\n#### 3. Analyzing the Income Statement\\n\\n**Year-over-year percentage changes:**\\n* **Sales**: Declined sharply from \\\\( \\\\$47.335M \\\\) to \\\\( \\\\$34.362M \\\\(-27\\\\%\\\\))\\n    * **Costs of Good Sold**: Followed suit decreasing but more steeply than revenues.\\n    \\n**Key Insights/Trends:**\\nRevenue has dropped considerably while cost of goods sold decreased at a higher rate, indicating possible overstocking issues or markdowns/sales strategies which could impact gross margins positively now.\\n\\n#### 4. Financial Ratio Analysis\\n\\nCalculations (are not provided here, yet let’s assume typical metrics like ROE, DSO, COGS turnover etc. would reveal declining performance given the scenario described so far.\\n\\n**Insights/Trends:**\\nROA might shrink, leading to a negative signal regarding earnings capacity relative to its assets investment. DSO increased due to receivable reduction implying slow payment cycles possibly from customer base contraction. \\n\\n#### 5. Final Summary and Future Outlook\\n\\nGiven the substantial drop in both revenue generation and assets accumulation coupled with high costs associated with these decreases, there seems to be pressure on profitability through reduced margins and potential erosion of shareholder equity if dividend payments remain steady or increase slightly.\\n\\n#### 6. Predicting EPS Change for Next Year\\n\\nAssuming similar dynamics continue into fiscal \\'73,\\n\\n**Prediction Result in JSON Format:**\\n```json\\n{\\n  \"direction_of_eps_change\": \"Decrease\",\\n  \"magnitude_of_change\": \"Significant\",\\n  \"certainty_of_assessment\": \"Medium\",\\n  \"reason\": \"\\\\\\\\eSince\\\\\\\\e\\\\\\\\ sales\\\\\\\\ehave\\\\\\\\edeclined\\\\\\\\esharply\\\\\\\\ewith\\\\\\\\ecosts\\\\\\\\egood\\\\\\\\sold\\\\\\\\edropping\\\\\\\\emore\\\\\\\\estep\\\\\\\\ethan\\\\\\\\erevenues,\\\\\\\\eindicating\\\\\\\\efocused\\\\\\\\enventory\\\\\\\\emanagement\\\\\\\\ehowever,\\\\theffects\\\\\\\\eon\\\\\\\\egross\\\\\\\\emerits\\\\\\\\emargins\\\\\\\\emeet\\\\\\\\eargative\\\\\\\\ensignal,\\\\\\\\ewhile\\\\\\\\elower\\\\\\\\ebalance\\\\\\\\eshirt\\\\\\\\eassets\\\\\\\\emight\\\\\\\\eelevate\\\\\\\\ecntrl\\\\\\\\eerisk\\\\\\\\eto\\\\\\\\eshrinking\\\\\\\\eedline,\\\\\\\\ean\\\\\\\\eduction\\\\\\\\ein\\\\\\\\ebottom-line\\\\\\\\efficiency\\\\\\\\ecould\\\\\\\\eaffect\\\\\\\\eearnings-per-share\\\\\\\\enevitably\\\\\\\\efavorably.\"\\n}\\n```\\nThis result assumes no improvements in operational efficiency, market recovery, or change in financial policy affecting expenses or dividends. Real predictions should consider such factors for accuracy.'"
      ]
     },
     "execution_count": 4,
     "metadata": {},
     "output_type": "execute_result"
    }
   ],
   "source": [
    "eval_df[\"full_model_response\"][0]"
   ]
  },
  {
   "cell_type": "code",
   "execution_count": 7,
   "id": "4f09dd27",
   "metadata": {},
   "outputs": [
    {
     "data": {
      "text/plain": [
       "predicted_direction\n",
       "error                                   560\n",
       "increase                                559\n",
       "decrease                                398\n",
       "<increase/decrease>                     122\n",
       "moderate increase                        40\n",
       "uncertain                                39\n",
       "possible increase                        24\n",
       "possible decrease                        12\n",
       "moderate                                  8\n",
       "slight increase                           6\n",
       "steady                                    4\n",
       "stable                                    3\n",
       "stabilize                                 2\n",
       "moderate decrease                         2\n",
       "decreased                                 2\n",
       "possible stabilization                    1\n",
       "possibly decrease                         1\n",
       "stabilization                             1\n",
       "unknown                                   1\n",
       "maintained                                1\n",
       "decremented                               1\n",
       "increased                                 1\n",
       "slight                                    1\n",
       "slight decrease                           1\n",
       "maintain                                  1\n",
       "might increase                            1\n",
       "potential increase                        1\n",
       "possible increase or stabilize            1\n",
       "<prediction direction>                    1\n",
       "possible slight increase                  1\n",
       "possible slight to moderate decrease      1\n",
       "stabilize or slight uptick                1\n",
       "stable or moderate increase               1\n",
       "stability                                 1\n",
       "Name: count, dtype: int64"
      ]
     },
     "execution_count": 7,
     "metadata": {},
     "output_type": "execute_result"
    }
   ],
   "source": [
    "eval_df.predicted_direction.value_counts()"
   ]
  },
  {
   "cell_type": "code",
   "execution_count": 57,
   "id": "4181b625",
   "metadata": {},
   "outputs": [],
   "source": [
    "full_text = eval_df[eval_df.predicted_direction == \"error\"].full_model_response.iloc[0]"
   ]
  },
  {
   "cell_type": "code",
   "execution_count": 58,
   "id": "a1b907b1",
   "metadata": {},
   "outputs": [
    {
     "name": "stdout",
     "output_type": "stream",
     "text": [
      "\n",
      "### Step-by-Step Analysis\n",
      "\n",
      "#### **Balance Sheet**\n",
      "\n",
      "**Key Insights & Trends:**\n",
      "1. **Total Assets**: Increased from $23,906K in '77 to $38,586K in '76, reflecting growth over three years.\n",
      "2. **Current Assets**: Grew from $16,366K to $21,647K with increases across inventory and receivables suggesting robust operational efficiency.\n",
      "3. **Long-term debt**: Jumped significantly from $4,592K to $13,583K indicating potential capital structure shift towards more long-term financing which could affect leverage levels going forward.\n",
      "4. **Shareholder equity**: Increased from $12,309K to $15,625K showing growth in owners’ investment, supporting business expansion.\n",
      "\n",
      "**Liquidity Analysis:** \n",
      "- Current ratio improved slightly but suggests adequate short term solvency despite rising liabilities.\n",
      "\n",
      "\n",
      "#### **Income Statement**\n",
      "\n",
      "**Key Insights & Trends:**\n",
      "1. **Sales Growth**: From $50,325K to $66,214K signifies strong revenue performance, possibly driven by market penetration or product improvements.\n",
      "2. **Gross Margin Increase**: From 27% ($13,679/$66,214) to around 32%, implying efficient cost management and pricing strategies leading to higher profits per unit sold.\n",
      "3. **Operating Efficiency Decline**: From operating margin ~8% ($8,143/$66,214) to ~5% ($3,434/$66,214), might indicate increased costs not fully offsetting sales growth.\n",
      "4. **Financial Leverage Impact**: Growing debt could strain earnings if it leads to higher interest expenses without proportionate improvement in net income margins.\n",
      "\n",
      "#### **Financial Ratios Analysis**\n",
      "\n",
      "**Calculated Ratios:**\n",
      "1. **ROE**: Improved ROE may suggest better use of shareholders funds due to either increasing profit margins or reduced asset turnover rate.\n",
      "2. **Debt-to-Equity**: Increasing D/E ratio signals higher risk profile associated with leveraged growth strategy that needs careful monitoring especially given economic uncertainties.\n",
      "\n",
      "#### **Final Assessment & Outlook**\n",
      "\n",
      "**Summary & Future Outlook:**\n",
      "The company has shown consistent top-line growth and improving profitability through enhanced gross margins, albeit at the expense of lower operating efficiencies and increased financial leverage. This points toward an aggressive yet potentially risky growth trajectory that requires close attention to manage debt service capacity amidst growing obligations. However, solid shareholder returns underscore investors confidence in the strategic direction taken so far.\n",
      "\n",
      "#### **EPS Prediction for Next Year**\n",
      "\n",
      "Assessing the trends outlined above, several factors point towards **moderate increase** in EPS though with some **uncertainty** linked to ongoing financial strategy adjustments, potential market risks, and need for continued optimization of operations alongside managing debt servicing efficiently:\n",
      "\n",
      "```json\n",
      "{\n",
      "    \"direction_of_eps_change\": \"Moderate Increase\",\n",
      "    \"magnitude_of_change\": \"Dependent on successful execution of growth initiatives while optimizing cost structures and managing existing debts.\",\n",
      "    \"certainty_of_assessment\": \"Medium\",\n",
      "    \"reason\": \"\\\\nThe company’s demonstrated ability to grow revenues with expanding markets alignss with upward pressure on earnings per share. However, the balance between financial leverage and operational efficiency remains critical, affecting both the extent of such increase and its predictability.\"\n",
      "\"\n",
      "}\n",
      "```\n"
     ]
    }
   ],
   "source": [
    "text = full_text.split('assistant')[-1]\n",
    "print(text)"
   ]
  },
  {
   "cell_type": "code",
   "execution_count": 59,
   "id": "e097b3a4",
   "metadata": {},
   "outputs": [
    {
     "name": "stdout",
     "output_type": "stream",
     "text": [
      "{\n",
      "    \"direction_of_eps_change\": \"Moderate Increase\",\n",
      "    \"magnitude_of_change\": \"Dependent on successful execution of growth initiatives while optimizing cost structures and managing existing debts.\",\n",
      "    \"certainty_of_assessment\": \"Medium\",\n",
      "    \"reason\": \"\\\\nThe company’s demonstrated ability to grow revenues with expanding markets alignss with upward pressure on earnings per share. However, the balance between financial leverage and operational efficiency remains critical, affecting both the extent of such increase and its predictability.\"\n",
      "\"\n",
      "}\n"
     ]
    }
   ],
   "source": [
    "import re\n",
    "import json\n",
    "\n",
    "pattern = r'```json\\s*\\n(.*?)\\n```'\n",
    "    \n",
    "# Find all JSON blocks\n",
    "json_blocks = re.findall(pattern, text, re.DOTALL)[0]\n",
    "print(json_blocks)"
   ]
  },
  {
   "cell_type": "code",
   "execution_count": 60,
   "id": "abf6ebf1",
   "metadata": {},
   "outputs": [],
   "source": [
    "from json_repair import repair_json\n",
    "import json\n",
    "\n",
    "def fix_json_with_library(broken_json_text):\n",
    "    \"\"\"\n",
    "    Use json-repair library to fix common JSON issues.\n",
    "    \"\"\"\n",
    "    try:\n",
    "        # Attempt to repair the JSON\n",
    "        fixed_json = repair_json(broken_json_text)\n",
    "        return json.loads(fixed_json)\n",
    "    except Exception as e:\n",
    "        print(f\"Could not repair JSON: {e}\")\n",
    "        return None"
   ]
  },
  {
   "cell_type": "code",
   "execution_count": 81,
   "id": "822de68b",
   "metadata": {},
   "outputs": [
    {
     "data": {
      "text/plain": [
       "{'direction_of_eps_change': 'Moderate Increase',\n",
       " 'magnitude_of_change': 'Dependent on successful execution of growth initiatives while optimizing cost structures and managing existing debts.',\n",
       " 'certainty_of_assessment': 'Medium',\n",
       " 'reason': '\\\\nThe company’s demonstrated ability to grow revenues with expanding markets alignss with upward pressure on earnings per share. However, the balance between financial leverage and operational efficiency remains critical, affecting both the extent of such increase and its predictability.'}"
      ]
     },
     "execution_count": 81,
     "metadata": {},
     "output_type": "execute_result"
    }
   ],
   "source": [
    "fix_json_with_library(json_blocks)"
   ]
  },
  {
   "cell_type": "markdown",
   "id": "07fffdd8",
   "metadata": {},
   "source": [
    "It is working..."
   ]
  },
  {
   "cell_type": "code",
   "execution_count": null,
   "id": "359673dd",
   "metadata": {},
   "outputs": [
    {
     "ename": "KeyError",
     "evalue": "'magnitude_of_change'",
     "output_type": "error",
     "traceback": [
      "\u001b[0;31m---------------------------------------------------------------------------\u001b[0m",
      "\u001b[0;31mKeyError\u001b[0m                                  Traceback (most recent call last)",
      "Cell \u001b[0;32mIn[80], line 26\u001b[0m\n\u001b[1;32m     24\u001b[0m \u001b[38;5;28;01mif\u001b[39;00m fixed_json:\n\u001b[1;32m     25\u001b[0m     eval_df\u001b[38;5;241m.\u001b[39mloc[i, \u001b[38;5;124m'\u001b[39m\u001b[38;5;124mpredicted_direction\u001b[39m\u001b[38;5;124m'\u001b[39m] \u001b[38;5;241m=\u001b[39m fixed_json[\u001b[38;5;124m'\u001b[39m\u001b[38;5;124mdirection_of_eps_change\u001b[39m\u001b[38;5;124m'\u001b[39m]\n\u001b[0;32m---> 26\u001b[0m     eval_df\u001b[38;5;241m.\u001b[39mloc[i, \u001b[38;5;124m'\u001b[39m\u001b[38;5;124mmagnitude\u001b[39m\u001b[38;5;124m'\u001b[39m] \u001b[38;5;241m=\u001b[39m \u001b[43mfixed_json\u001b[49m\u001b[43m[\u001b[49m\u001b[38;5;124;43m'\u001b[39;49m\u001b[38;5;124;43mmagnitude_of_change\u001b[39;49m\u001b[38;5;124;43m'\u001b[39;49m\u001b[43m]\u001b[49m\n\u001b[1;32m     27\u001b[0m     eval_df\u001b[38;5;241m.\u001b[39mloc[i, \u001b[38;5;124m'\u001b[39m\u001b[38;5;124mcertainty\u001b[39m\u001b[38;5;124m'\u001b[39m] \u001b[38;5;241m=\u001b[39m fixed_json[\u001b[38;5;124m'\u001b[39m\u001b[38;5;124mcertainty_of_assessment\u001b[39m\u001b[38;5;124m'\u001b[39m]\n\u001b[1;32m     28\u001b[0m     \u001b[38;5;66;03m# eval_df.loc[i, 'reason'] = fixed_json['reason']\u001b[39;00m\n",
      "\u001b[0;31mKeyError\u001b[0m: 'magnitude_of_change'"
     ]
    }
   ],
   "source": [
    "for i, row in eval_df.iterrows():\n",
    "    is_error = (row.predicted_direction == \"error\")\n",
    "    \n",
    "    if not is_error:\n",
    "        continue\n",
    "    else:\n",
    "        # Get Full Text to extract the JSON\n",
    "        full_response_text = row.full_model_response\n",
    "        \n",
    "        # Extract the last assistant message\n",
    "        last_text = full_response_text.split('assistant')[-1]\n",
    "        \n",
    "        # Find the JSON block\n",
    "        try:\n",
    "            pattern = r'```json\\s*\\n(.*?)\\n```'\n",
    "            json_block = re.findall(pattern, last_text, re.DOTALL)[0]\n",
    "        except Exception as e:\n",
    "            pattern = r'\\{[^{}]*\\}'\n",
    "            json_block = re.findall(pattern, last_text, re.DOTALL)[0]\n",
    "        \n",
    "        # Fix the json with fix_json library\n",
    "        fixed_json = fix_json_with_library(json_block)\n",
    "        \n",
    "        if fixed_json:\n",
    "            eval_df.loc[i, 'predicted_direction'] = fixed_json['direction_of_eps_change']\n",
    "            eval_df.loc[i, 'magnitude'] = fixed_json['magnitude_of_change']\n",
    "            eval_df.loc[i, 'certainty'] = fixed_json['certainty_of_assessment']\n",
    "            eval_df.loc[i, 'reason'] = fixed_json['reason']\n",
    "            eval_df.loc[i, 'is_match'] = True is fixed_json['direction_of_eps_change'] == row['actual_label']\n",
    "                    \n",
    "        \n"
   ]
  },
  {
   "cell_type": "code",
   "execution_count": 78,
   "id": "01419c80",
   "metadata": {},
   "outputs": [
    {
     "data": {
      "text/plain": [
       "1000"
      ]
     },
     "execution_count": 78,
     "metadata": {},
     "output_type": "execute_result"
    }
   ],
   "source": [
    "eval_df.loc[0, 'company_id']"
   ]
  },
  {
   "cell_type": "code",
   "execution_count": null,
   "id": "c3ed1bdc",
   "metadata": {},
   "outputs": [],
   "source": []
  }
 ],
 "metadata": {
  "kernelspec": {
   "display_name": "hitech",
   "language": "python",
   "name": "python3"
  },
  "language_info": {
   "codemirror_mode": {
    "name": "ipython",
    "version": 3
   },
   "file_extension": ".py",
   "mimetype": "text/x-python",
   "name": "python",
   "nbconvert_exporter": "python",
   "pygments_lexer": "ipython3",
   "version": "3.10.14"
  }
 },
 "nbformat": 4,
 "nbformat_minor": 5
}
